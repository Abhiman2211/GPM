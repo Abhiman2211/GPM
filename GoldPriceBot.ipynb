{
 "cells": [
  {
   "cell_type": "code",
   "execution_count": 33,
   "metadata": {},
   "outputs": [],
   "source": [
    "import requests\n",
    "import json\n",
    "import pandas as pd\n",
    "from selenium import webdriver\n",
    "from bs4 import BeautifulSoup\n",
    "import time\n",
    "import urllib\n",
    "import datetime\n",
    "import os\n",
    "from pytz import timezone\n",
    "from pathlib import Path\n",
    "from selenium.webdriver.common.keys import Keys\n",
    "from selenium.webdriver.chrome.options import Options"
   ]
  },
  {
   "cell_type": "code",
   "execution_count": 43,
   "metadata": {},
   "outputs": [],
   "source": [
    "# Format for time\n",
    "fmt = \"%Y-%m-%d %H:%M:%S\"\n",
    "\n",
    "userBot = \"gpmbot\"\n",
    "pwdBot = \"9ALjKza5GmXqxMKNf\""
   ]
  },
  {
   "cell_type": "code",
   "execution_count": 44,
   "metadata": {},
   "outputs": [],
   "source": [
    "# URL for chat\n",
    "rootUrl = \"https://darkroom.global-precious-metals.com\""
   ]
  },
  {
   "cell_type": "code",
   "execution_count": 4,
   "metadata": {},
   "outputs": [],
   "source": [
    "def drkrmLogin(user=userBot,password=pwdBot, rootUrl = rootUrl):\n",
    "    \"\"\"\n",
    "    login tryout\n",
    "    \"\"\"\n",
    "    apiLogin = \"/api/v1/login\"\n",
    "    data = {\"user\" : user, \"password\" : password}\n",
    "    r = requests.post(rootUrl+apiLogin,data=json.dumps(\n",
    "    data), headers={'Content-Type': 'application/json'})\n",
    "    if r.json()['status'] == 'success':\n",
    "        return r.json()['data']['userId'], r.json()['data']['authToken'] \n",
    "    else:\n",
    "        print(r.json())\n",
    "        raise Exception(\"Something went wrong\")"
   ]
  },
  {
   "cell_type": "code",
   "execution_count": 5,
   "metadata": {},
   "outputs": [],
   "source": [
    "def post_message(msg, channel=\"#general\", user=userBot,password=pwdBot, rootUrl = rootUrl):\n",
    "    \"\"\"\n",
    "    we authenticate, then post\n",
    "    \"\"\"\n",
    "    apiMsg = \"/api/v1/chat.postMessage\"\n",
    "    userId, authToken = drkrmLogin(user=user, password=password, rootUrl=rootUrl)\n",
    "    payload = { \"channel\" : channel, \"text\" : msg}\n",
    "    response = requests.post(rootUrl+apiMsg,data=json.dumps(\n",
    "    payload), headers={'Content-Type': 'application/json', 'X-Auth-Token' : authToken, 'X-USer-Id' : userId})\n",
    "    return response"
   ]
  },
  {
   "cell_type": "code",
   "execution_count": 6,
   "metadata": {},
   "outputs": [],
   "source": [
    "DCurl = \"https://www.dukascopy.com/swiss/english/home/?utm_source=freeserv\""
   ]
  },
  {
   "cell_type": "code",
   "execution_count": 7,
   "metadata": {},
   "outputs": [],
   "source": [
    "def validatePath(path):\n",
    "    \"\"\"\n",
    "    Checks if path refers to a valid directory. If not an exception is raised.\n",
    "    \"\"\"\n",
    "    \n",
    "    try:\n",
    "        os.path.isfile(filename)\n",
    "    except:\n",
    "        raise NotADirectoryError(\"The specified path does not exist or is invalid. The data will be collected and stored in the current working directory in the file: \")"
   ]
  },
  {
   "cell_type": "code",
   "execution_count": 45,
   "metadata": {},
   "outputs": [],
   "source": [
    "def gmtToUtc(time):\n",
    "    utcTime = time.astimezone(timezone(\"UTC\"))\n",
    "    return utcTime.strftime(fmt)\n",
    "\n",
    "def currUtcTime():\n",
    "    return datetime.datetime.now(timezone('UTC')).strftime(fmt)"
   ]
  },
  {
   "cell_type": "code",
   "execution_count": 50,
   "metadata": {},
   "outputs": [],
   "source": [
    "def getDukasTime(soup):\n",
    "    \"\"\"\n",
    "    Returns the extracted time as given on the DukasCopy webpage from where the DukasCopy data is being extracted from.\n",
    "    \n",
    "    Parameters:\n",
    "    \n",
    "    soup (soup): The BeautifulSoup object containing the parsed HTML representation of the DukasCopy webpage.\n",
    "    \n",
    "    Returns:\n",
    "    date_time_obj (Datetime): Datetime object representing the time on the page when the data was taken.\n",
    "    \"\"\"\n",
    "    tdata = soup.find_all(\"span\", {\"id\": \"timeUpdate\"})\n",
    "    dtxt = tdata[0].text\n",
    "    \n",
    "    date_time_obj = datetime.datetime.strptime(dtxt, ' %a, %d %b %Y %H:%M:%S GMT')\n",
    "    \n",
    "    return date_time_obj"
   ]
  },
  {
   "cell_type": "code",
   "execution_count": 9,
   "metadata": {},
   "outputs": [],
   "source": [
    "def updateData(NewFrame, filename):\n",
    "    \"\"\"\n",
    "    Updates the pickle file specified bt \"filepath\" by appending new data from the \"NewFrame\" dataframe to it.\n",
    "    \n",
    "    Parameters:\n",
    "    \n",
    "    NewFrame (DataFrame): The dataframe which is to be appended to the end of the pickle file to update the pickle file with the new data.\n",
    "    filepath (str): The filepath of the pickle file where new dataframe data is to be appended.\n",
    "    \n",
    "    \"\"\"\n",
    "    if (not filename.endswith(\".pkl\")):\n",
    "        raise Exception(\"The filename specified must end with .pkl extension. The filename provided was: \" + filename)\n",
    "    \n",
    "    if not os.path.isfile(filename):\n",
    "        pd.to_pickle(NewFrame, filename)\n",
    "        \n",
    "    else:   \n",
    "        df = pd.read_pickle(filename)\n",
    "        df = df.append(NewFrame, sort=False)\n",
    "        df.to_pickle(filename)"
   ]
  },
  {
   "cell_type": "code",
   "execution_count": 85,
   "metadata": {},
   "outputs": [],
   "source": [
    "# Settings for headless chrome\n",
    "\n",
    "options = Options()\n",
    "options.headless = True\n",
    "options.add_argument('--no-proxy-server')\n",
    "options.add_argument(\"--proxy-server='direct://'\")\n",
    "options.add_argument(\"--proxy-bypass-list=*\")"
   ]
  },
  {
   "cell_type": "code",
   "execution_count": 86,
   "metadata": {},
   "outputs": [],
   "source": [
    "def getDukasCopyData(pathToChromeDriver):\n",
    "    \"\"\"\n",
    "    Returns a DataFrame object containing the most recent Gold Data from the DukasCopy website.\n",
    "    Scrapes the data from the DukasCopy website before formatting and returning the data as a pandas DataFrame.\n",
    "    \n",
    "    Parameters:\n",
    "    pathToChromeDriver (str): Path to the chromedriver executable to be used to open web pages.\n",
    "    \n",
    "    Returns:\n",
    "    DCDataFrame (DataFrame): A pandas DataFrame containing the most recent Gold Data from the DukasCopy website.\n",
    "    dataTime (Datetime): Datetime object representing the time at which data was fetched.\n",
    "    \"\"\"\n",
    "    browser = webdriver.Chrome(pathToChromeDriver, options=options)\n",
    "    browser.get(DCurl)\n",
    "    \n",
    "    DChtml = browser.page_source\n",
    "    soup = BeautifulSoup(DChtml, \"lxml\")\n",
    "    \n",
    "    # Finding the exact table with all the required data\n",
    "    data = soup.find_all(\"table\", {\"id\": \"list\"})\n",
    "    \n",
    "    # Creating and Modifying dataframe with the table \n",
    "    DCDataFrame = pd.read_html(str(data))[0]\n",
    "    \n",
    "    # Add a timestamp to the data\n",
    "    dataTime = getDukasTime(soup)\n",
    "    DCDataFrame[\"timestamp\"] = dataTime\n",
    "    DCDataFrameDCDataFrame.set_index(\"timestamp\")\n",
    "    \n",
    "    # Filter dataframe only to Gold Data\n",
    "    DCDataFrame = DCDataFrame[DCDataFrame[\"Live\"] == \"XAU/USD\"]\n",
    "    \n",
    "    browser.quit()\n",
    "    return DCDataFrame, dataTime"
   ]
  },
  {
   "cell_type": "code",
   "execution_count": 104,
   "metadata": {},
   "outputs": [],
   "source": [
    "def checkBidSurge(dataframe, threshold=0.0002):\n",
    "    pctChange = dataframe[\"Bid\"].pct_change()[-1]\n",
    "    if abs(pctChange) >= threshold:\n",
    "        print(\"EXCEEDED: BID PRICE AT \" + str(dataframe[\"Bid\"][-1]) + \" UP/DOWN \" + str(pctChange) + \"%\")"
   ]
  },
  {
   "cell_type": "code",
   "execution_count": 52,
   "metadata": {},
   "outputs": [],
   "source": [
    "def fetchAndSaveDukas(filename, chromedriverpath):\n",
    "    \"\"\"\n",
    "    Fetches the most recent Gold Data from the DukasCopy website and updates the pickle file specified by \"dukasFilepath\" with the newest data.\n",
    "    If no pickle file with the specified name exists, a new one will be created.\n",
    "    If no filepath is specified, the current working directory will be used and data will be stored in the pickle file .\n",
    "    \n",
    "    Parameters:\n",
    "    dukasFilepath(str): The filepath to the pickle file where the fetched data will be stored.\n",
    "    chromedriverpath (str): Path to the chromedriver executable to be used to open web pages.\n",
    "    \"\"\"\n",
    "    df = getDukasCopyData(chromedriverpath)\n",
    "    updateData(df, filename)"
   ]
  },
  {
   "cell_type": "code",
   "execution_count": 75,
   "metadata": {},
   "outputs": [],
   "source": [
    "def sendPrices(filepath):\n",
    "    currData, timestamp = getDukasCopyData(\"/Users/abhimanyadav/Desktop/chromedriver\")\n",
    "    \n",
    "    try:\n",
    "        bidPrice = currData.iloc[0][\"Bid\"]\n",
    "        askPrice = currData.iloc[0][\"Ask\"]\n",
    "    except:\n",
    "        print(\"Skipped here\")\n",
    "    \n",
    "    updateData(currData, filepath)\n",
    "    formattedMsg = \"GOLD PRICE as of \" + str(timestamp) + \"\\n \\nBid Price: \" + str(bidPrice) + \"\\nAsk Price: \" + str(askPrice)\n",
    "\n",
    "    post_message(formattedMsg)"
   ]
  },
  {
   "cell_type": "code",
   "execution_count": 15,
   "metadata": {},
   "outputs": [],
   "source": [
    "def driver():\n",
    "    while True:\n",
    "        sendPrices()\n",
    "        time.sleep(7200)"
   ]
  },
  {
   "cell_type": "code",
   "execution_count": 88,
   "metadata": {},
   "outputs": [],
   "source": [
    "def testRun(filepath=\"DukasGoldData.pkl\"):\n",
    "    currData, timestamp = getDukasCopyData(\"/Users/abhimanyadav/Desktop/chromedriver\")\n",
    "    \n",
    "    try:\n",
    "        bidPrice = currData.iloc[0][\"Bid\"]\n",
    "        askPrice = currData.iloc[0][\"Ask\"]\n",
    "    except:\n",
    "        print(\"Skipped here\")\n",
    "    \n",
    "    updateData(currData, filepath)\n",
    "    formattedMsg = \"GOLD PRICE as of \" + str(timestamp) + \"\\n \\nBid Price: \" + str(bidPrice) + \"\\nAsk Price: \" + str(askPrice)\n",
    "    \n",
    "    print(formattedMsg)"
   ]
  },
  {
   "cell_type": "code",
   "execution_count": 87,
   "metadata": {},
   "outputs": [
    {
     "ename": "NameError",
     "evalue": "name 'DCDataFrameDCDataFrame' is not defined",
     "output_type": "error",
     "traceback": [
      "\u001b[0;31m---------------------------------------------------------------------------\u001b[0m",
      "\u001b[0;31mNameError\u001b[0m                                 Traceback (most recent call last)",
      "\u001b[0;32m<ipython-input-87-8c63a7445e8f>\u001b[0m in \u001b[0;36m<module>\u001b[0;34m\u001b[0m\n\u001b[1;32m      1\u001b[0m \u001b[0;32mwhile\u001b[0m \u001b[0;32mTrue\u001b[0m\u001b[0;34m:\u001b[0m\u001b[0;34m\u001b[0m\u001b[0;34m\u001b[0m\u001b[0m\n\u001b[0;32m----> 2\u001b[0;31m     \u001b[0mtestRun\u001b[0m\u001b[0;34m(\u001b[0m\u001b[0;34m)\u001b[0m\u001b[0;34m\u001b[0m\u001b[0;34m\u001b[0m\u001b[0m\n\u001b[0m\u001b[1;32m      3\u001b[0m     \u001b[0mtime\u001b[0m\u001b[0;34m.\u001b[0m\u001b[0msleep\u001b[0m\u001b[0;34m(\u001b[0m\u001b[0;36m25\u001b[0m\u001b[0;34m)\u001b[0m\u001b[0;34m\u001b[0m\u001b[0;34m\u001b[0m\u001b[0m\n",
      "\u001b[0;32m<ipython-input-83-621e6dd880ad>\u001b[0m in \u001b[0;36mtestRun\u001b[0;34m()\u001b[0m\n\u001b[1;32m      1\u001b[0m \u001b[0;32mdef\u001b[0m \u001b[0mtestRun\u001b[0m\u001b[0;34m(\u001b[0m\u001b[0;34m)\u001b[0m\u001b[0;34m:\u001b[0m\u001b[0;34m\u001b[0m\u001b[0;34m\u001b[0m\u001b[0m\n\u001b[0;32m----> 2\u001b[0;31m     \u001b[0mcurrData\u001b[0m\u001b[0;34m,\u001b[0m \u001b[0mtimestamp\u001b[0m \u001b[0;34m=\u001b[0m \u001b[0mgetDukasCopyData\u001b[0m\u001b[0;34m(\u001b[0m\u001b[0;34m\"/Users/abhimanyadav/Desktop/chromedriver\"\u001b[0m\u001b[0;34m)\u001b[0m\u001b[0;34m\u001b[0m\u001b[0;34m\u001b[0m\u001b[0m\n\u001b[0m\u001b[1;32m      3\u001b[0m \u001b[0;34m\u001b[0m\u001b[0m\n\u001b[1;32m      4\u001b[0m     \u001b[0;32mtry\u001b[0m\u001b[0;34m:\u001b[0m\u001b[0;34m\u001b[0m\u001b[0;34m\u001b[0m\u001b[0m\n\u001b[1;32m      5\u001b[0m         \u001b[0mbidPrice\u001b[0m \u001b[0;34m=\u001b[0m \u001b[0mcurrData\u001b[0m\u001b[0;34m.\u001b[0m\u001b[0miloc\u001b[0m\u001b[0;34m[\u001b[0m\u001b[0;36m0\u001b[0m\u001b[0;34m]\u001b[0m\u001b[0;34m[\u001b[0m\u001b[0;34m\"Bid\"\u001b[0m\u001b[0;34m]\u001b[0m\u001b[0;34m\u001b[0m\u001b[0;34m\u001b[0m\u001b[0m\n",
      "\u001b[0;32m<ipython-input-86-a79e29107b26>\u001b[0m in \u001b[0;36mgetDukasCopyData\u001b[0;34m(pathToChromeDriver)\u001b[0m\n\u001b[1;32m     26\u001b[0m     \u001b[0mdataTime\u001b[0m \u001b[0;34m=\u001b[0m \u001b[0mgetDukasTime\u001b[0m\u001b[0;34m(\u001b[0m\u001b[0msoup\u001b[0m\u001b[0;34m)\u001b[0m\u001b[0;34m\u001b[0m\u001b[0;34m\u001b[0m\u001b[0m\n\u001b[1;32m     27\u001b[0m     \u001b[0mDCDataFrame\u001b[0m\u001b[0;34m[\u001b[0m\u001b[0;34m\"timestamp\"\u001b[0m\u001b[0;34m]\u001b[0m \u001b[0;34m=\u001b[0m \u001b[0mdataTime\u001b[0m\u001b[0;34m\u001b[0m\u001b[0;34m\u001b[0m\u001b[0m\n\u001b[0;32m---> 28\u001b[0;31m     \u001b[0mDCDataFrameDCDataFrame\u001b[0m\u001b[0;34m.\u001b[0m\u001b[0mset_index\u001b[0m\u001b[0;34m(\u001b[0m\u001b[0;34m\"timestamp\"\u001b[0m\u001b[0;34m)\u001b[0m\u001b[0;34m\u001b[0m\u001b[0;34m\u001b[0m\u001b[0m\n\u001b[0m\u001b[1;32m     29\u001b[0m \u001b[0;34m\u001b[0m\u001b[0m\n\u001b[1;32m     30\u001b[0m     \u001b[0;31m# Filter dataframe only to Gold Data\u001b[0m\u001b[0;34m\u001b[0m\u001b[0;34m\u001b[0m\u001b[0;34m\u001b[0m\u001b[0m\n",
      "\u001b[0;31mNameError\u001b[0m: name 'DCDataFrameDCDataFrame' is not defined"
     ]
    }
   ],
   "source": [
    "while True:\n",
    "    testRun()\n",
    "    time.sleep(25)"
   ]
  },
  {
   "cell_type": "code",
   "execution_count": 63,
   "metadata": {},
   "outputs": [],
   "source": [
    "df = pd.read_pickle(\"DukasGoldData.pkl\")"
   ]
  },
  {
   "cell_type": "code",
   "execution_count": 79,
   "metadata": {},
   "outputs": [
    {
     "data": {
      "text/plain": [
       "timestamp\n",
       "2020-01-14 16:06:02         NaN\n",
       "2020-01-14 16:07:02   -0.000207\n",
       "2020-01-14 16:08:01    0.000084\n",
       "2020-01-14 16:09:00    0.000071\n",
       "2020-01-14 16:10:01   -0.000175\n",
       "Name: Bid, dtype: float64"
      ]
     },
     "execution_count": 79,
     "metadata": {},
     "output_type": "execute_result"
    }
   ],
   "source": [
    "df[\"Bid\"].pct_change()"
   ]
  },
  {
   "cell_type": "code",
   "execution_count": 80,
   "metadata": {},
   "outputs": [
    {
     "data": {
      "text/plain": [
       "-0.00017487952743666657"
      ]
     },
     "execution_count": 80,
     "metadata": {},
     "output_type": "execute_result"
    }
   ],
   "source": [
    "df[\"Bid\"].pct_change()[-1]"
   ]
  },
  {
   "cell_type": "code",
   "execution_count": 89,
   "metadata": {},
   "outputs": [
    {
     "data": {
      "text/plain": [
       "1543.65"
      ]
     },
     "execution_count": 89,
     "metadata": {},
     "output_type": "execute_result"
    }
   ],
   "source": [
    "df[\"Bid\"][-1]"
   ]
  },
  {
   "cell_type": "code",
   "execution_count": 105,
   "metadata": {},
   "outputs": [
    {
     "name": "stdout",
     "output_type": "stream",
     "text": [
      "EXCEEDED: BID PRICE AT 1543.68 UP/DOWN -0.0002072538860102835%\n"
     ]
    }
   ],
   "source": [
    "checkBidSurge(df[0:2])"
   ]
  },
  {
   "cell_type": "code",
   "execution_count": 100,
   "metadata": {},
   "outputs": [
    {
     "data": {
      "text/html": [
       "<div>\n",
       "<style scoped>\n",
       "    .dataframe tbody tr th:only-of-type {\n",
       "        vertical-align: middle;\n",
       "    }\n",
       "\n",
       "    .dataframe tbody tr th {\n",
       "        vertical-align: top;\n",
       "    }\n",
       "\n",
       "    .dataframe thead th {\n",
       "        text-align: right;\n",
       "    }\n",
       "</style>\n",
       "<table border=\"1\" class=\"dataframe\">\n",
       "  <thead>\n",
       "    <tr style=\"text-align: right;\">\n",
       "      <th></th>\n",
       "      <th>Live</th>\n",
       "      <th>Bid</th>\n",
       "      <th>Ask</th>\n",
       "      <th>Spread</th>\n",
       "    </tr>\n",
       "    <tr>\n",
       "      <th>timestamp</th>\n",
       "      <th></th>\n",
       "      <th></th>\n",
       "      <th></th>\n",
       "      <th></th>\n",
       "    </tr>\n",
       "  </thead>\n",
       "  <tbody>\n",
       "    <tr>\n",
       "      <td>2020-01-14 16:06:02</td>\n",
       "      <td>XAU/USD</td>\n",
       "      <td>1544.00</td>\n",
       "      <td>1544.29</td>\n",
       "      <td>28.7</td>\n",
       "    </tr>\n",
       "    <tr>\n",
       "      <td>2020-01-14 16:07:02</td>\n",
       "      <td>XAU/USD</td>\n",
       "      <td>1543.68</td>\n",
       "      <td>1543.93</td>\n",
       "      <td>24.7</td>\n",
       "    </tr>\n",
       "  </tbody>\n",
       "</table>\n",
       "</div>"
      ],
      "text/plain": [
       "                        Live      Bid      Ask  Spread\n",
       "timestamp                                             \n",
       "2020-01-14 16:06:02  XAU/USD  1544.00  1544.29    28.7\n",
       "2020-01-14 16:07:02  XAU/USD  1543.68  1543.93    24.7"
      ]
     },
     "execution_count": 100,
     "metadata": {},
     "output_type": "execute_result"
    }
   ],
   "source": [
    "df[0:2]"
   ]
  },
  {
   "cell_type": "code",
   "execution_count": 98,
   "metadata": {},
   "outputs": [
    {
     "data": {
      "text/plain": [
       "timestamp\n",
       "2020-01-14 16:06:02         NaN\n",
       "2020-01-14 16:07:02   -0.000207\n",
       "Name: Bid, dtype: float64"
      ]
     },
     "execution_count": 98,
     "metadata": {},
     "output_type": "execute_result"
    }
   ],
   "source": [
    "df[0:2][\"Bid\"].pct_change()"
   ]
  },
  {
   "cell_type": "code",
   "execution_count": null,
   "metadata": {},
   "outputs": [],
   "source": []
  }
 ],
 "metadata": {
  "kernelspec": {
   "display_name": "Python 3",
   "language": "python",
   "name": "python3"
  },
  "language_info": {
   "codemirror_mode": {
    "name": "ipython",
    "version": 3
   },
   "file_extension": ".py",
   "mimetype": "text/x-python",
   "name": "python",
   "nbconvert_exporter": "python",
   "pygments_lexer": "ipython3",
   "version": "3.7.4"
  }
 },
 "nbformat": 4,
 "nbformat_minor": 2
}
