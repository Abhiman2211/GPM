{
 "cells": [
  {
   "cell_type": "code",
   "execution_count": 1,
   "metadata": {},
   "outputs": [],
   "source": [
    "import requests\n",
    "import json\n",
    "import pandas as pd\n",
    "from selenium import webdriver\n",
    "from bs4 import BeautifulSoup\n",
    "import time\n",
    "import urllib\n",
    "import datetime\n",
    "import os\n",
    "from pytz import timezone\n",
    "from pathlib import Path\n",
    "from selenium.webdriver.common.keys import Keys\n",
    "from selenium.webdriver.chrome.options import Options"
   ]
  },
  {
   "cell_type": "code",
   "execution_count": 2,
   "metadata": {},
   "outputs": [],
   "source": [
    "# Format for time\n",
    "fmt = \"%Y-%m-%d %H:%M:%S\"\n",
    "\n",
    "userBot = \"gpmbot\"\n",
    "pwdBot = \"9ALjKza5GmXqxMKNf\""
   ]
  },
  {
   "cell_type": "code",
   "execution_count": 3,
   "metadata": {},
   "outputs": [],
   "source": [
    "# URL for chat\n",
    "rootUrl = \"https://darkroom.global-precious-metals.com\""
   ]
  },
  {
   "cell_type": "code",
   "execution_count": 4,
   "metadata": {},
   "outputs": [],
   "source": [
    "def drkrmLogin(user=userBot,password=pwdBot, rootUrl = rootUrl):\n",
    "    \"\"\"\n",
    "    login tryout\n",
    "    \"\"\"\n",
    "    apiLogin = \"/api/v1/login\"\n",
    "    data = {\"user\" : user, \"password\" : password}\n",
    "    r = requests.post(rootUrl+apiLogin,data=json.dumps(\n",
    "    data), headers={'Content-Type': 'application/json'})\n",
    "    if r.json()['status'] == 'success':\n",
    "        return r.json()['data']['userId'], r.json()['data']['authToken'] \n",
    "    else:\n",
    "        print(r.json())\n",
    "        raise Exception(\"Something went wrong\")"
   ]
  },
  {
   "cell_type": "code",
   "execution_count": 5,
   "metadata": {},
   "outputs": [],
   "source": [
    "def post_message(msg, channel=\"#general\", user=userBot,password=pwdBot, rootUrl = rootUrl):\n",
    "    \"\"\"\n",
    "    we authenticate, then post\n",
    "    \"\"\"\n",
    "    apiMsg = \"/api/v1/chat.postMessage\"\n",
    "    userId, authToken = drkrmLogin(user=user, password=password, rootUrl=rootUrl)\n",
    "    payload = { \"channel\" : channel, \"text\" : msg}\n",
    "    response = requests.post(rootUrl+apiMsg,data=json.dumps(\n",
    "    payload), headers={'Content-Type': 'application/json', 'X-Auth-Token' : authToken, 'X-USer-Id' : userId})\n",
    "    return response"
   ]
  },
  {
   "cell_type": "code",
   "execution_count": 6,
   "metadata": {},
   "outputs": [],
   "source": [
    "DCurl = \"https://www.dukascopy.com/swiss/english/home/?utm_source=freeserv\""
   ]
  },
  {
   "cell_type": "code",
   "execution_count": 8,
   "metadata": {},
   "outputs": [],
   "source": [
    "def toUtc(time):\n",
    "    utcTime = time.astimezone(timezone(\"UTC\"))\n",
    "    return utcTime.strftime(fmt)\n",
    "\n",
    "def currUtcTime():\n",
    "    return datetime.datetime.now(timezone('UTC')).strftime(fmt)"
   ]
  },
  {
   "cell_type": "code",
   "execution_count": 9,
   "metadata": {},
   "outputs": [],
   "source": [
    "def getDukasTime(soup):\n",
    "    \"\"\"\n",
    "    Returns the extracted time as given on the DukasCopy webpage from where the DukasCopy data is being extracted from.\n",
    "    \n",
    "    Parameters:\n",
    "    \n",
    "    soup (soup): The BeautifulSoup object containing the parsed HTML representation of the DukasCopy webpage.\n",
    "    \n",
    "    Returns:\n",
    "    date_time_obj (Datetime): Datetime object representing the time on the page when the data was taken.\n",
    "    \"\"\"\n",
    "    tdata = soup.find_all(\"span\", {\"id\": \"timeUpdate\"})\n",
    "    dtxt = tdata[0].text\n",
    "    \n",
    "    date_time_obj = datetime.datetime.strptime(dtxt, ' %a, %d %b %Y %H:%M:%S GMT')\n",
    "    \n",
    "    return date_time_obj"
   ]
  },
  {
   "cell_type": "code",
   "execution_count": 11,
   "metadata": {},
   "outputs": [],
   "source": [
    "# Settings for headless chrome\n",
    "\n",
    "options = Options()\n",
    "options.headless = True\n",
    "options.add_argument('--no-proxy-server')\n",
    "options.add_argument(\"--proxy-server='direct://'\")\n",
    "options.add_argument(\"--proxy-bypass-list=*\")"
   ]
  },
  {
   "cell_type": "code",
   "execution_count": 19,
   "metadata": {},
   "outputs": [],
   "source": [
    "def getDukasCopyData(pathToChromeDriver):\n",
    "    \"\"\"\n",
    "    Returns a DataFrame object containing the most recent Gold Data from the DukasCopy website.\n",
    "    Scrapes the data from the DukasCopy website before formatting and returning the data as a pandas DataFrame.\n",
    "    \n",
    "    Parameters:\n",
    "    pathToChromeDriver (str): Path to the chromedriver executable to be used to open web pages.\n",
    "    \n",
    "    Returns:\n",
    "    DCDataFrame (DataFrame): A pandas DataFrame containing the most recent Gold Data from the DukasCopy website.\n",
    "    dataTime (Datetime): Datetime object representing the time at which data was fetched.\n",
    "    \"\"\"\n",
    "    browser = webdriver.Chrome(pathToChromeDriver, options=options)\n",
    "    browser.get(DCurl)\n",
    "    \n",
    "    DChtml = browser.page_source\n",
    "    soup = BeautifulSoup(DChtml, \"lxml\")\n",
    "    \n",
    "    # Finding the exact table with all the required data\n",
    "    data = soup.find_all(\"table\", {\"id\": \"list\"})\n",
    "    \n",
    "    # Creating and Modifying dataframe with the table \n",
    "    DCDataFrame = pd.read_html(str(data))[0]\n",
    "    \n",
    "    # Add a timestamp to the data\n",
    "    dataTime = getDukasTime(soup)\n",
    "    DCDataFrame[\"timestamp\"] = dataTime\n",
    "    DCDataFrame = DCDataFrame.set_index(\"timestamp\")\n",
    "    \n",
    "    # Filter dataframe only to Gold Data\n",
    "    DCDataFrame = DCDataFrame[DCDataFrame[\"Live\"] == \"XAU/USD\"]\n",
    "    \n",
    "    browser.quit()\n",
    "    return DCDataFrame, dataTime"
   ]
  },
  {
   "cell_type": "code",
   "execution_count": 54,
   "metadata": {},
   "outputs": [],
   "source": [
    "def checkBidSurge(dataframe, threshold=0.0002):\n",
    "    pctChange = dataframe[\"Bid\"].pct_change()[-1]\n",
    "    \n",
    "    if pctChange < 0:\n",
    "        side = \"DOWN\"\n",
    "    else:\n",
    "        side = \"UP\"\n",
    "    \n",
    "    if abs(pctChange) >= threshold:\n",
    "        print(\"EXCEEDED: BID PRICE AT \" + str(dataframe[\"Bid\"][-1]) + \" \" + side + \" \" + str(pctChange) + \"%\")"
   ]
  },
  {
   "cell_type": "code",
   "execution_count": 66,
   "metadata": {},
   "outputs": [],
   "source": [
    "def sendPrices(currData, timestamp):\n",
    "    try:\n",
    "        bidPrice = currData.iloc[0][\"Bid\"]\n",
    "        askPrice = currData.iloc[0][\"Ask\"]\n",
    "    except:\n",
    "        print(\"Skipped here\")\n",
    "    \n",
    "    formattedMsg = \"GOLD PRICE as of \" + str(timestamp) + \"\\n \\nBid Price: \" + str(bidPrice) + \"\\nAsk Price: \" + str(askPrice)\n",
    "\n",
    "    post_message(formattedMsg)"
   ]
  },
  {
   "cell_type": "code",
   "execution_count": 55,
   "metadata": {},
   "outputs": [],
   "source": [
    "def testRun(filepath=\"DukasGoldData.pkl\"):\n",
    "    currData, timestamp = getDukasCopyData(\"/Users/abhimanyadav/Desktop/chromedriver\")\n",
    "    \n",
    "    try:\n",
    "        bidPrice = currData.iloc[0][\"Bid\"]\n",
    "        askPrice = currData.iloc[0][\"Ask\"]\n",
    "        updateData(currData, filepath)\n",
    "        \n",
    "        formattedMsg = \"GOLD PRICE as of \" + str(timestamp) + \"\\n \\nBid Price: \" + str(bidPrice) + \"\\nAsk Price: \" + str(askPrice)\n",
    "    \n",
    "        df = pd.read_pickle(filepath)\n",
    "        checkBidSurge(df, 0.0002)\n",
    "        \n",
    "        print(formattedMsg)\n",
    "\n",
    "    except:\n",
    "        print(\"Skipped here\")"
   ]
  },
  {
   "cell_type": "code",
   "execution_count": 69,
   "metadata": {},
   "outputs": [],
   "source": [
    "def run(chromeDriverPath):\n",
    "    currData, timestamp = getDukasCopyData(chromeDriverPath)\n",
    "    sendPrices(currData, timestamp)\n",
    "    time.sleep(24 * 60 * 60)"
   ]
  },
  {
   "cell_type": "code",
   "execution_count": null,
   "metadata": {},
   "outputs": [],
   "source": [
    "run(\"chromedriver\")"
   ]
  },
  {
   "cell_type": "code",
   "execution_count": null,
   "metadata": {},
   "outputs": [],
   "source": []
  }
 ],
 "metadata": {
  "kernelspec": {
   "display_name": "Python 3",
   "language": "python",
   "name": "python3"
  },
  "language_info": {
   "codemirror_mode": {
    "name": "ipython",
    "version": 3
   },
   "file_extension": ".py",
   "mimetype": "text/x-python",
   "name": "python",
   "nbconvert_exporter": "python",
   "pygments_lexer": "ipython3",
   "version": "3.7.4"
  }
 },
 "nbformat": 4,
 "nbformat_minor": 2
}
