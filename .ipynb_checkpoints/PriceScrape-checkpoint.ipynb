{
 "cells": [
  {
   "cell_type": "code",
   "execution_count": 20,
   "metadata": {},
   "outputs": [],
   "source": [
    "import requests\n",
    "import json\n",
    "import pandas as pd\n",
    "import time\n",
    "from selenium import webdriver\n",
    "from bs4 import BeautifulSoup\n",
    "import time\n",
    "import urllib\n",
    "import datetime\n",
    "import os"
   ]
  },
  {
   "cell_type": "code",
   "execution_count": 29,
   "metadata": {},
   "outputs": [],
   "source": [
    "# VARIABLES\n",
    "\n",
    "# DCurl stores DukasCopy URL\n",
    "DCurl = \"https://www.dukascopy.com/swiss/english/home/?utm_source=freeserv\"\n",
    "\n",
    "# Stores the filepath to the pickle file where dukas data will be saved\n",
    "DukasFp = \"DukasCopyData.pkl\"\n",
    "\n",
    "# Stores the filepath to the pickle file where MetalsAPI data will be saved\n",
    "MetalsFp = \"MetalsData.pkl\""
   ]
  },
  {
   "cell_type": "code",
   "execution_count": 8,
   "metadata": {},
   "outputs": [
    {
     "name": "stdout",
     "output_type": "stream",
     "text": [
      "2020-08-01 01:52:00\n"
     ]
    }
   ],
   "source": [
    "# Converts epoch time to GMT Time\n",
    "\n",
    "def convertFromEpoch(t):\n",
    "    return time.strftime('%Y-%d-%m %H:%M:%S', time.gmtime(t))\n",
    "\n",
    "print(convertFromEpoch(1578448320))"
   ]
  },
  {
   "cell_type": "code",
   "execution_count": 9,
   "metadata": {},
   "outputs": [],
   "source": [
    "# Fetches the time from DukasCopy Webpage and converts into readable format\n",
    "\n",
    "def getDukasTime(soup):\n",
    "    tdata = soup.find_all(\"span\", {\"id\": \"timeUpdate\"})\n",
    "    dtxt = tdata[0].text\n",
    "    \n",
    "    date_time_obj = datetime.datetime.strptime(dtxt, ' %a, %d %b %Y %H:%M:%S GMT')\n",
    "    \n",
    "    return date_time_obj"
   ]
  },
  {
   "cell_type": "code",
   "execution_count": 11,
   "metadata": {},
   "outputs": [],
   "source": [
    "# Takes in a new Dataframe and the filepath of the pickle file. Appends the data from new dataframe \n",
    "# into the pickle file. New pickle file created if it does not exist.\n",
    "\n",
    "def updateData(NewFrame, filepath):\n",
    "    if not os.path.isfile(filepath):\n",
    "        pd.to_pickle(NewFrame, filepath)\n",
    "        \n",
    "    else:   \n",
    "        df = pd.read_pickle(filepath)\n",
    "        df = df.append(NewFrame)\n",
    "        df.to_pickle(filepath)"
   ]
  },
  {
   "cell_type": "code",
   "execution_count": 4,
   "metadata": {},
   "outputs": [],
   "source": [
    "# Kept outside for now so I don't abuse the API limit. \n",
    "# ADD BACK INTO BELOW FUNCTION BEFORE RUNNING OR IT WON'T WORK!!!!!!!!\n",
    "\n",
    "MetalsApiResponse = requests.get(\"http://metals-api.com/api/latest?access_key=anbne4hpic0ev3c2ymdyscbk5emkoni00qurxhpyrcvbuh2bu1j1yugbqbl17avu&base=USD&symbols = XAU\") "
   ]
  },
  {
   "cell_type": "code",
   "execution_count": 10,
   "metadata": {},
   "outputs": [
    {
     "ename": "NameError",
     "evalue": "name 'MetalsApiResponse' is not defined",
     "output_type": "error",
     "traceback": [
      "\u001b[0;31m---------------------------------------------------------------------------\u001b[0m",
      "\u001b[0;31mNameError\u001b[0m                                 Traceback (most recent call last)",
      "\u001b[0;32m<ipython-input-10-8f9771b612fa>\u001b[0m in \u001b[0;36m<module>\u001b[0;34m\u001b[0m\n\u001b[1;32m     17\u001b[0m     \u001b[0;32mreturn\u001b[0m \u001b[0mdf\u001b[0m\u001b[0;34m\u001b[0m\u001b[0;34m\u001b[0m\u001b[0m\n\u001b[1;32m     18\u001b[0m \u001b[0;34m\u001b[0m\u001b[0m\n\u001b[0;32m---> 19\u001b[0;31m \u001b[0mgetMetalsApiData\u001b[0m\u001b[0;34m(\u001b[0m\u001b[0mMetalsApiResponse\u001b[0m\u001b[0;34m)\u001b[0m\u001b[0;34m\u001b[0m\u001b[0;34m\u001b[0m\u001b[0m\n\u001b[0m\u001b[1;32m     20\u001b[0m \u001b[0;34m\u001b[0m\u001b[0m\n\u001b[1;32m     21\u001b[0m \u001b[0;34m\u001b[0m\u001b[0m\n",
      "\u001b[0;31mNameError\u001b[0m: name 'MetalsApiResponse' is not defined"
     ]
    }
   ],
   "source": [
    "# Function to fetch Gold Data from MetalsAPI. Returns a new DataFrame with most recent data\n",
    "\n",
    "def getMetalsApiData(MetalsApiResponse):\n",
    "    print(\"MetalsAPI Connection \" + str(MetalsApiResponse.status_code))\n",
    "    \n",
    "    # Get the result json\n",
    "    result = MetalsApiResponse.json()\n",
    "    \n",
    "    # Store results in dataframe\n",
    "    df = pd.DataFrame(result)\n",
    "    df[\"timestamp\"] = df[\"timestamp\"].map(convertFromEpoch)\n",
    "    \n",
    "    # Store only gold data and make time stamp the index\n",
    "    df = df.loc[df.index == \"XAU\"]\n",
    "    df = df.set_index(\"timestamp\")\n",
    "    \n",
    "    return df\n",
    "    \n",
    "getMetalsApiData(MetalsApiResponse)"
   ]
  },
  {
   "cell_type": "code",
   "execution_count": 18,
   "metadata": {},
   "outputs": [],
   "source": [
    "# Function to fetch Gold Data from DukasCopy. Returns a new DataFrame with most recent data.\n",
    "\n",
    "def getDukasCopyData():\n",
    "    browser = webdriver.Chrome()\n",
    "    browser.get(DCurl)\n",
    "    DChtml = browser.page_source\n",
    "    soup = BeautifulSoup(DChtml, \"lxml\")\n",
    "    \n",
    "    # Finding the exact table with all the required data\n",
    "    data = soup.find_all(\"table\", {\"id\": \"list\"})\n",
    "    \n",
    "    # Creating and Modifying dataframe with the table \n",
    "    DCDataFrame = pd.read_html(str(data))[0]\n",
    "    \n",
    "    # Add a timestamp to the data\n",
    "    DCDataFrame[\"timestamp\"] = getDukasTime(soup)\n",
    "    \n",
    "    # Make the timestamp the index\n",
    "    DCDataFrame = DCDataFrame.set_index(\"timestamp\")\n",
    "    \n",
    "    # Filter it only to Gold Data\n",
    "    DCDataFrame = DCDataFrame[DCDataFrame[\"Live\"] == \"XAU/USD\"]\n",
    "    \n",
    "    browser.quit()\n",
    "    return DCDataFrame"
   ]
  },
  {
   "cell_type": "code",
   "execution_count": 14,
   "metadata": {},
   "outputs": [],
   "source": [
    "# Fetches Dukas data and saves it to the pickle file.\n",
    "\n",
    "def fetchAndSaveDukas(dukasFilepath):\n",
    "    df = getDukasCopyData()\n",
    "    updateData(df, dukasFilepath)\n",
    "    \n",
    "# Fetches MetalsAPI data and saves it to the pickle file.\n",
    "def fetchAndSaveMetals(metalsFilepath):\n",
    "    df = getMetalsApiData(dummy) # dont forget to remove the dummy thing\n",
    "    updateData(df, metalsFilepath)"
   ]
  },
  {
   "cell_type": "code",
   "execution_count": null,
   "metadata": {},
   "outputs": [],
   "source": []
  }
 ],
 "metadata": {
  "kernelspec": {
   "display_name": "Python 3",
   "language": "python",
   "name": "python3"
  },
  "language_info": {
   "codemirror_mode": {
    "name": "ipython",
    "version": 3
   },
   "file_extension": ".py",
   "mimetype": "text/x-python",
   "name": "python",
   "nbconvert_exporter": "python",
   "pygments_lexer": "ipython3",
   "version": "3.7.4"
  }
 },
 "nbformat": 4,
 "nbformat_minor": 2
}
